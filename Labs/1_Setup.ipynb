{
 "cells": [
  {
   "cell_type": "markdown",
   "metadata": {},
   "source": [
    "# Lab 1 - Environment Setup\n",
    "Our first lab is to setup the environment for the course. We will be using Python for the course, and we will be using Jupyter Notebooks to write and run our code. We will also be using the Python libraries NumPy, Pandas, Matplotlib, and Scikit-learn. In this lab, we will install all the necessary software and libraries.\n",
    "\n",
    "| | |\n",
    "| --------- | --------------------------- |\n",
    "| Notebook  | Setup.ipynb    |\n",
    "| Builds On | None |\n",
    "| Time to complete | 10-30 minutes\n",
    "\n",
    "\n",
    "## Recommended Software\n",
    "- [Anaconda](https://www.anaconda.com/products/individual) - Anaconda is a distribution of Python that comes with all the necessary libraries and software for data science. It is the recommended way to install Python for this course.\n",
    "- Alternative to Anaconda: [Python](https://www.python.org/downloads/) - Python is the programming language we will be using for this course. You can download Python from the official website.\n",
    "- [Visual Studio Code](https://code.visualstudio.com/) - Visual Studio Code is a lightweight code editor that is great for writing Python code. It has built-in support for Jupyter Notebooks and Python debugging.\n",
    "  - Jupyter extension for VS Code. ![](images/JupyterExtVSC.png)\n"
   ]
  },
  {
   "cell_type": "markdown",
   "metadata": {},
   "source": [
    "## Virtual Environment\n",
    "Now let's set up a virtual environment for the course. A virtual environment is a self-contained directory that contains a Python installation for a particular version of Python, plus a number of additional packages. This allows you to work on a specific project without worrying about the dependencies of other projects.\n",
    "\n",
    "1. In VS Code, you can create a virtual environment by opening the command palette (Ctrl+Shift+P) and typing `Python: Create New Environment`. You can then select the location of the virtual environment and the version of Python you want to use.\n",
    "\n",
    "2. If you installed Anaconda, you can choose *Conda* as the environment manager.  If you installed Python, choose *Venv* as the environment manager.\n",
    "\n",
    "![venv](../images/venv.png)\n",
    "\n",
    "3. Choose the version of python you wish to use.\n",
    "4. Choose *requirements.txt* as the requirements file.\n",
    "\n",
    "---\n",
    "\n",
    "### Notebook Kernel\n",
    "After you have created the virtual environment, you need to select it as the kernel for this notebook. You can do this by clicking on the kernel name in the top right corner of the notebook and selecting the virtual environment you just created.\n",
    "\n",
    "You will need to do this for each of the notebooks in this course."
   ]
  },
  {
   "cell_type": "markdown",
   "metadata": {},
   "source": [
    "\n",
    "\n",
    "## Python\n",
    "First, let's verify the python environment.  Run the code in the cell below to check the python version.  You will probably need to select the python kernel for this notebook by clicking the 'Select Kernel' button in the upper right corner of the notebook.  We need to use Python 3 for this course."
   ]
  },
  {
   "cell_type": "code",
   "execution_count": null,
   "metadata": {},
   "outputs": [],
   "source": [
    "!python --version"
   ]
  },
  {
   "cell_type": "markdown",
   "metadata": {},
   "source": [
    "## Libraries\n",
    "\n",
    "Now, let's check to see if all the required libraries are installed. Run the code in the cell below to check to see if the libraries are installed. If you get an error, you will need to install the library.\n",
    "\n",
    "You can install a missing library by opening a terminal (*Terminal/New Terminal*) and typing `pip install libraryname`. For example, to install NumPy, you would type `pip install numpy`.\n",
    "\n",
    "> Note - you might need to close and reopen the notebook after setting the kernel so that the environment is correctly set up."
   ]
  },
  {
   "cell_type": "code",
   "execution_count": null,
   "metadata": {},
   "outputs": [],
   "source": [
    "import pandas as pd\n",
    "import pickle\n",
    "import seaborn as sns\n",
    "import matplotlib.pyplot as plt\n",
    "import numpy as np\n",
    "import mlflow\n",
    "\n",
    "print(\"Libraries imported successfully!\")"
   ]
  }
 ],
 "metadata": {
  "kernelspec": {
   "display_name": ".venv",
   "language": "python",
   "name": "python3"
  },
  "language_info": {
   "codemirror_mode": {
    "name": "ipython",
    "version": 3
   },
   "file_extension": ".py",
   "mimetype": "text/x-python",
   "name": "python",
   "nbconvert_exporter": "python",
   "pygments_lexer": "ipython3",
   "version": "3.12.7"
  }
 },
 "nbformat": 4,
 "nbformat_minor": 2
}
